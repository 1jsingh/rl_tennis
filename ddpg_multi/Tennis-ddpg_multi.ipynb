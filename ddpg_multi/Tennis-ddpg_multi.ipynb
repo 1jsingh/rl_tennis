{
 "cells": [
  {
   "cell_type": "markdown",
   "metadata": {},
   "source": [
    "### 1. Start the Environment"
   ]
  },
  {
   "cell_type": "code",
   "execution_count": 1,
   "metadata": {},
   "outputs": [],
   "source": [
    "from mlagents.envs import UnityEnvironment\n",
    "import numpy as np\n",
    "\n",
    "import random\n",
    "import datetime\n",
    "import torch\n",
    "import numpy as np\n",
    "from collections import deque\n",
    "\n",
    "# matplotlib\n",
    "import matplotlib.pyplot as plt\n",
    "%matplotlib inline\n",
    "%config InlineBackend.figure_format = 'retina'\n",
    "\n",
    "# seaborn\n",
    "import seaborn as sns\n",
    "sns.set()\n",
    "\n",
    "# ddpg agent\n",
    "from agents.ddpg_multi_agent import MultiAgent\n",
    "\n",
    "\n",
    "# Some more magic so that the notebook will reload external python modules;\n",
    "# see http://stackoverflow.com/questions/1907993/autoreload-of-modules-in-ipython\n",
    "%load_ext autoreload\n",
    "%autoreload 2"
   ]
  },
  {
   "cell_type": "markdown",
   "metadata": {},
   "source": [
    "**_Before running the code cell below_**, change the `file_name` parameter to match the location of the Reacher Unity environment.\n",
    "\n",
    "For instance, if you are using a Mac, then you downloaded `Reacher.app`.  If this file is in the same folder as the notebook, then the line below should appear as follows:\n",
    "```\n",
    "env = UnityEnvironment(file_name=\"Reacher.app\")\n",
    "```"
   ]
  },
  {
   "cell_type": "code",
   "execution_count": 2,
   "metadata": {},
   "outputs": [
    {
     "name": "stderr",
     "output_type": "stream",
     "text": [
      "INFO:mlagents.envs:\n",
      "'Academy' started successfully!\n",
      "Unity Academy name: Academy\n",
      "        Number of Brains: 1\n",
      "        Number of Training Brains : 1\n",
      "        Reset Parameters :\n",
      "\t\t\n",
      "Unity brain name: TennisLearning\n",
      "        Number of Visual Observations (per agent): 0\n",
      "        Vector Observation space size (per agent): 8\n",
      "        Number of stacked Vector Observation: 3\n",
      "        Vector Action space type: continuous\n",
      "        Vector Action space size (per agent): [2]\n",
      "        Vector Action descriptions: , \n"
     ]
    }
   ],
   "source": [
    "env = UnityEnvironment(file_name='../unity_envs/Tennis_Linux_server/Tennis_Linux.x86_64',worker_id=1)"
   ]
  },
  {
   "cell_type": "markdown",
   "metadata": {},
   "source": [
    "Environments contain **_brains_** which are responsible for deciding the actions of their associated agents. Here we check for the first brain available, and set it as the default brain we will be controlling from Python."
   ]
  },
  {
   "cell_type": "code",
   "execution_count": 3,
   "metadata": {},
   "outputs": [],
   "source": [
    "# get the default brain\n",
    "brain_name = env.brain_names[0]\n",
    "brain = env.brains[brain_name]"
   ]
  },
  {
   "cell_type": "markdown",
   "metadata": {},
   "source": [
    "### 2. Examine the State and Action Spaces\n",
    "\n",
    "* Set-up: Two-player game where agents control rackets to bounce ball over a\n",
    "  net.\n",
    "* Goal: The agents must bounce ball between one another while not dropping or\n",
    "  sending ball out of bounds.\n",
    "* Agents: The environment contains two agent linked to a single Brain named\n",
    "  TennisBrain. After training you can attach another Brain named MyBrain to one\n",
    "  of the agent to play against your trained model.\n",
    "* Agent Reward Function (independent):\n",
    "  * +0.1 To agent when hitting ball over net.\n",
    "  * -0.1 To agent who let ball hit their ground, or hit ball out of bounds.\n",
    "* Brains: One Brain with the following observation/action space.\n",
    "  * Vector Observation space: 8 variables corresponding to position and velocity\n",
    "    of ball and racket.\n",
    "  * Vector Action space: (Continuous) Size of 2, corresponding to movement\n",
    "    toward net or away from net, and jumping.\n",
    "  * Visual Observations: None.\n",
    "* Reset Parameters: One, corresponding to size of ball.\n",
    "* Benchmark Mean Reward: 2.5\n",
    "\n",
    "Lets print some information about the environment."
   ]
  },
  {
   "cell_type": "code",
   "execution_count": 4,
   "metadata": {},
   "outputs": [
    {
     "name": "stdout",
     "output_type": "stream",
     "text": [
      "Number of agents per arena: 2\n",
      "Number of parallel arenas: 18\n",
      "Size of each action: 2\n",
      "There are 36 agents. Each observes a state with length: 24\n",
      "The state for the first agent looks like: [ 0.          0.          0.          0.          0.          0.\n",
      "  0.          0.          0.          0.          0.          0.\n",
      "  0.          0.          0.          0.         -7.05176163 -1.5\n",
      " -0.          0.         -6.14469528  6.         -0.          0.        ]\n"
     ]
    }
   ],
   "source": [
    "# reset the environment\n",
    "env_info = env.reset(train_mode=True)[brain_name]\n",
    "\n",
    "# number of agents\n",
    "num_agents = 2\n",
    "print('Number of agents per arena:', num_agents)\n",
    "\n",
    "num_parallel_env = len(env_info.agents)//num_agents\n",
    "print('Number of parallel arenas:', num_parallel_env)\n",
    "\n",
    "# size of each action\n",
    "action_size = brain.vector_action_space_size[0]\n",
    "print('Size of each action:', action_size)\n",
    "\n",
    "# examine the state space \n",
    "states = env_info.vector_observations\n",
    "state_size = states.shape[1]\n",
    "print('There are {} agents. Each observes a state with length: {}'.format(states.shape[0], state_size))\n",
    "print('The state for the first agent looks like:', states[0])"
   ]
  },
  {
   "cell_type": "markdown",
   "metadata": {},
   "source": [
    "### 3. Take Random Actions in the Environment"
   ]
  },
  {
   "cell_type": "code",
   "execution_count": 5,
   "metadata": {},
   "outputs": [
    {
     "name": "stdout",
     "output_type": "stream",
     "text": [
      "Total score (averaged over agents) this episode: -0.0005555555431379213\n"
     ]
    }
   ],
   "source": [
    "env_info = env.reset(train_mode=True)[brain_name]     # reset the environment    \n",
    "states = env_info.vector_observations                  # get the current state (for each agent)\n",
    "scores = np.zeros(num_agents*num_parallel_env) # initialize the score (for each agent)\n",
    "step=0\n",
    "while True:\n",
    "    actions = np.random.randn(num_agents*num_parallel_env, action_size) # select an action (for each agent)\n",
    "    actions = np.clip(actions, -1, 1)                  # all actions between -1 and 1\n",
    "    env_info = env.step(actions)[brain_name]           # send all actions to tne environment\n",
    "    next_states = env_info.vector_observations         # get next state (for each agent)\n",
    "    rewards = env_info.rewards                         # get reward (for each agent)\n",
    "    dones = env_info.local_done                        # see if episode finished\n",
    "    scores += env_info.rewards                         # update the score (for each agent)\n",
    "    states = next_states                               # roll over states to next time step\n",
    "    step+=1\n",
    "    if np.any(dones):                                  # exit loop if episode finished\n",
    "        break\n",
    "print('Total score (averaged over agents) this episode: {}'.format(np.mean(scores)))"
   ]
  },
  {
   "cell_type": "markdown",
   "metadata": {},
   "source": [
    "### 4. Find agent indices pairs belonging to same the playing arena"
   ]
  },
  {
   "cell_type": "code",
   "execution_count": 6,
   "metadata": {},
   "outputs": [
    {
     "name": "stdout",
     "output_type": "stream",
     "text": [
      "Agent tuples belonging to the same playing arena:\n",
      "[(1, 28), (17, 22), (13, 19), (6, 33), (4, 35), (12, 18), (15, 24), (2, 27), (9, 30), (11, 20), (5, 34), (7, 32), (14, 25), (0, 29), (8, 31), (16, 23), (10, 21), (3, 26)]\n"
     ]
    }
   ],
   "source": [
    "# determine agents ids belonging to the same arena\n",
    "env_info = env.reset(train_mode=True)[brain_name]     # reset the environment    \n",
    "states = env_info.vector_observations                  # get the current state (for each agent)\n",
    "scores = np.zeros(num_agents*num_parallel_env) # initialize the score (for each agent)\n",
    "step=0\n",
    "same_env_agent_indices = []\n",
    "while True:\n",
    "    actions = np.random.randn(num_agents*num_parallel_env, action_size) # select an action (for each agent)\n",
    "    actions = np.clip(actions, -1, 1)                  # all actions between -1 and 1\n",
    "    env_info = env.step(actions)[brain_name]           # send all actions to tne environment\n",
    "    next_states = env_info.vector_observations         # get next state (for each agent)\n",
    "    rewards = env_info.rewards                         # get reward (for each agent)\n",
    "    dones = env_info.local_done                        # see if episode finished\n",
    "    scores += env_info.rewards                         # update the score (for each agent)\n",
    "    states = next_states                               # roll over states to next time step\n",
    "    step+=1\n",
    "    if np.sum(dones)==num_agents:\n",
    "        indices = tuple(np.argwhere(dones).squeeze())\n",
    "        if indices not in same_env_agent_indices:\n",
    "            same_env_agent_indices.append(indices)\n",
    "    \n",
    "    if len(same_env_agent_indices)==num_parallel_env:\n",
    "        break\n",
    "        \n",
    "print (\"Agent tuples belonging to the same playing arena:\\n{}\".format(same_env_agent_indices))"
   ]
  },
  {
   "cell_type": "markdown",
   "metadata": {},
   "source": [
    "### 5. Training the agent!\n",
    "\n",
    "Now it's turn to train an agent to solve the environment!  When training the environment, we have to set `train_mode=True`, so that the line for resetting the environment looks like the following:\n",
    "```python\n",
    "env_info = env.reset(train_mode=True)[brain_name]\n",
    "```"
   ]
  },
  {
   "cell_type": "code",
   "execution_count": 7,
   "metadata": {},
   "outputs": [],
   "source": [
    "# intialize the the ddpg_multi agent\n",
    "agent = MultiAgent(state_size=env_info.vector_observations.shape[1], \n",
    "                    action_size=brain.vector_action_space_size[0],\n",
    "                    num_agents=num_agents,num_parallel_env=num_parallel_env,\n",
    "                    agent_indices=same_env_agent_indices,random_seed=0)\n",
    "\n",
    "model_save_path = '../trained_models/ddpg_multi/'"
   ]
  },
  {
   "cell_type": "code",
   "execution_count": 8,
   "metadata": {},
   "outputs": [
    {
     "name": "stdout",
     "output_type": "stream",
     "text": [
      "using cuda:0\n"
     ]
    }
   ],
   "source": [
    "# check the device\n",
    "device = torch.device(\"cuda:0\" if torch.cuda.is_available() else \"cpu\")\n",
    "print (\"using\",device)"
   ]
  },
  {
   "cell_type": "markdown",
   "metadata": {},
   "source": [
    "Lets target a score of 2.5 for solving this environment\n",
    "`target_score=2.5`"
   ]
  },
  {
   "cell_type": "code",
   "execution_count": 10,
   "metadata": {},
   "outputs": [],
   "source": [
    "# train function for ddpg agent\n",
    "def ddpg_multi_train(agent,n_steps=int(5e3),max_t=1000,target_score=2.5,PRINT_EVERY=50):\n",
    "    \n",
    "    # logs for storing agent rewards during training\n",
    "    episode_rewards_window = deque(maxlen=100)\n",
    "    episode_rewards = []\n",
    "    online_rewards = np.zeros(num_agents*num_parallel_env)\n",
    "    \n",
    "    # reset the environment and the agent\n",
    "    env_info = env.reset(train_mode=True)[brain_name]\n",
    "    states = env_info.vector_observations\n",
    "    agent.reset()\n",
    "    \n",
    "    for step in range(1, n_steps+1):\n",
    "        # compute agent actions\n",
    "        actions = agent.act(states)\n",
    "        \n",
    "        # feed the agent actions to the environment\n",
    "        env_info = env.step(actions)[brain_name]\n",
    "        next_states = env_info.vector_observations\n",
    "        rewards = np.array(env_info.rewards)\n",
    "        dones = np.array(env_info.local_done)\n",
    "\n",
    "        # take agent update step\n",
    "        agent.step(states, actions, rewards, next_states, dones)\n",
    "        \n",
    "        # update current state and online rewards\n",
    "        states = next_states\n",
    "        online_rewards += rewards\n",
    "        \n",
    "        # update episode rewards log if any agent is done\n",
    "        for i, terminal in enumerate(dones):\n",
    "            if dones[i]:\n",
    "                episode_rewards.append(online_rewards[i])\n",
    "                episode_rewards_window.append(online_rewards[i])\n",
    "                online_rewards[i] = 0\n",
    "        \n",
    "        # the tennis unity env has a max runtime step count of 5000,\n",
    "        # so reset the env from time to time to prevent running into an error\n",
    "        if step % max_t == 0:\n",
    "            env_info = env.reset(train_mode=True)[brain_name]\n",
    "            states = env_info.vector_observations\n",
    "            agent.reset()\n",
    "        \n",
    "        # print training progress\n",
    "        if step % PRINT_EVERY == 0:\n",
    "            # save the trained models\n",
    "            for i in range(agent.num_agents):\n",
    "                torch.save(agent.agents[i].actor_local.state_dict(), \"{}ddpg_multi_actor_{}.pth\".format(model_save_path,i))\n",
    "                torch.save(agent.agents[i].critic_local.state_dict(), \"{}ddpg_multi_critic_{}.pth\".format(model_save_path,i))\n",
    "                \n",
    "            # print progress\n",
    "            print('Step: {}\\t Average reward: {:.4f}\\t Current Reward: {:.2f}'.format(step,\n",
    "                                                                np.mean(episode_rewards_window),episode_rewards[-1]))\n",
    "        \n",
    "        # check if the environment is solved\n",
    "        if np.mean(episode_rewards_window)>target_score:\n",
    "            # save the trained models\n",
    "            for i in range(agent.num_agents):\n",
    "                torch.save(agent.agents[i].actor_local.state_dict(), \"{}ddpg_multi_actor_{}.pth\".format(model_save_path,i))\n",
    "                torch.save(agent.agents[i].critic_local.state_dict(), \"{}ddpg_multi_critic_{}.pth\".format(model_save_path,i))\n",
    "                \n",
    "            \n",
    "            # print progress\n",
    "            print (\"\\nEnvironment solved in {} episodes! ... Avg Reward: {:.2f}\".format(len(episode_rewards)//num_parallel_env*num_agents -100,\n",
    "                                                                                        np.mean(episode_rewards_window)))\n",
    "            break\n",
    "            \n",
    "    return episode_rewards"
   ]
  },
  {
   "cell_type": "code",
   "execution_count": 11,
   "metadata": {
    "scrolled": false
   },
   "outputs": [
    {
     "name": "stderr",
     "output_type": "stream",
     "text": [
      "/home/jsingh/anaconda3/envs/reacher/lib/python3.6/site-packages/torch/nn/functional.py:1320: UserWarning: nn.functional.tanh is deprecated. Use torch.tanh instead.\n",
      "  warnings.warn(\"nn.functional.tanh is deprecated. Use torch.tanh instead.\")\n"
     ]
    },
    {
     "name": "stdout",
     "output_type": "stream",
     "text": [
      "Step: 1000\t Average reward: -0.0050\t Current Reward: -0.01\n",
      "Step: 2000\t Average reward: -0.0050\t Current Reward: -0.01\n",
      "Step: 3000\t Average reward: -0.0050\t Current Reward: 0.00\n",
      "Step: 4000\t Average reward: -0.0050\t Current Reward: 0.00\n",
      "Step: 5000\t Average reward: -0.0050\t Current Reward: -0.01\n",
      "Step: 6000\t Average reward: -0.0049\t Current Reward: -0.01\n",
      "Step: 7000\t Average reward: -0.0050\t Current Reward: -0.01\n",
      "Step: 8000\t Average reward: -0.0049\t Current Reward: -0.01\n",
      "Step: 9000\t Average reward: -0.0050\t Current Reward: 0.00\n",
      "Step: 10000\t Average reward: -0.0041\t Current Reward: 0.00\n",
      "Step: 11000\t Average reward: -0.0020\t Current Reward: -0.01\n",
      "Step: 12000\t Average reward: -0.0050\t Current Reward: -0.01\n",
      "Step: 13000\t Average reward: -0.0050\t Current Reward: -0.01\n",
      "Step: 14000\t Average reward: -0.0050\t Current Reward: 0.00\n",
      "Step: 15000\t Average reward: -0.0050\t Current Reward: -0.01\n",
      "Step: 16000\t Average reward: -0.0049\t Current Reward: -0.01\n",
      "Step: 17000\t Average reward: 0.0240\t Current Reward: -0.01\n",
      "Step: 18000\t Average reward: 0.0279\t Current Reward: -0.01\n",
      "Step: 19000\t Average reward: 0.0490\t Current Reward: -0.01\n",
      "Step: 20000\t Average reward: 0.0640\t Current Reward: -0.01\n",
      "Step: 21000\t Average reward: 0.1000\t Current Reward: 0.10\n",
      "Step: 22000\t Average reward: 0.1489\t Current Reward: 0.19\n",
      "Step: 23000\t Average reward: 0.1220\t Current Reward: 0.79\n",
      "Step: 24000\t Average reward: 0.1950\t Current Reward: 0.10\n",
      "Step: 25000\t Average reward: 0.3500\t Current Reward: 0.09\n",
      "Step: 26000\t Average reward: 0.4929\t Current Reward: 0.69\n",
      "Step: 27000\t Average reward: 0.5299\t Current Reward: 0.09\n",
      "Step: 28000\t Average reward: 0.4899\t Current Reward: -0.01\n",
      "Step: 29000\t Average reward: 0.5780\t Current Reward: 0.09\n",
      "Step: 30000\t Average reward: 0.8030\t Current Reward: 0.29\n",
      "Step: 31000\t Average reward: 1.7210\t Current Reward: 0.09\n",
      "\n",
      "Environment solved in 5200 episodes! ... Avg Reward: 2.55\n"
     ]
    }
   ],
   "source": [
    "# train the ddpg_multi agent\n",
    "scores = ddpg_multi_train(agent,n_steps=int(1e5),PRINT_EVERY=1000)"
   ]
  },
  {
   "cell_type": "code",
   "execution_count": 12,
   "metadata": {},
   "outputs": [
    {
     "data": {
      "image/png": "[encoded data removed]",
      "text/plain": [
       "<Figure size 432x288 with 1 Axes>"
      ]
     },
     "metadata": {
      "image/png": {
       "height": 282,
       "width": 405
      },
      "needs_background": "light"
     },
     "output_type": "display_data"
    }
   ],
   "source": [
    "# plot the reward curve\n",
    "fig = plt.figure()\n",
    "plt.plot(scores)\n",
    "plt.ylabel('Reward')\n",
    "plt.xlabel('Episodes ( x {})'.format(num_parallel_env*num_agents))\n",
    "plt.title('Reward Curve: DDPG-multi')\n",
    "plt.savefig('../images/reward_curve-ddpg_multi.png',dpi=300)\n",
    "plt.show()"
   ]
  },
  {
   "cell_type": "markdown",
   "metadata": {},
   "source": [
    "### 6. Watch the trained agent!"
   ]
  },
  {
   "cell_type": "code",
   "execution_count": 14,
   "metadata": {},
   "outputs": [],
   "source": [
    "# # uncomment this cell to load pretrained model weights\n",
    "# agent = MultiAgent(state_size=env_info.vector_observations.shape[1], \n",
    "#                 action_size=brain.vector_action_space_size[0],\n",
    "#                 num_agents=num_agents,num_parallel_env=num_parallel_env,\n",
    "#                 agent_indices=same_env_agent_indices,random_seed=0)\n",
    "\n",
    "# for i in range(agent.num_agents):\n",
    "#     agent.agents[i].actor_local.load_state_dict(torch.load(\"{}ddpg_multi_actor_{}.pth\".format(model_save_path,i),\n",
    "#                                                     map_location=device))"
   ]
  },
  {
   "cell_type": "code",
   "execution_count": 15,
   "metadata": {},
   "outputs": [
    {
     "name": "stdout",
     "output_type": "stream",
     "text": [
      "Agent id: 9\t Episode reward 2.60\n"
     ]
    }
   ],
   "source": [
    "# logs for storing reward for the first agent during training\n",
    "online_reward = 0\n",
    "\n",
    "# agent id for computing reward\n",
    "agent_id = np.random.randint(low=0,high=num_agents*num_parallel_env)\n",
    "\n",
    "# reset the environment and the agent\n",
    "env_info = env.reset(train_mode=True)[brain_name]\n",
    "states = env_info.vector_observations\n",
    "agent.reset()\n",
    "\n",
    "while True:\n",
    "    # compute agent actions\n",
    "    actions = agent.act(states,add_noise=False)\n",
    "\n",
    "    # feed the agent actions to the environment\n",
    "    env_info = env.step(actions)[brain_name]\n",
    "    next_states = env_info.vector_observations\n",
    "    rewards = np.array(env_info.rewards)\n",
    "    dones = np.array(env_info.local_done)                        \n",
    "\n",
    "    # update current state and online rewards\n",
    "    states = next_states\n",
    "    online_reward += rewards[agent_id]\n",
    "\n",
    "    # update episode rewards log if any agent is done\n",
    "    if dones[agent_id]:\n",
    "        break\n",
    "\n",
    "print (\"Agent id: {}\\t Episode reward {:.2f}\".format(agent_id,online_reward))"
   ]
  },
  {
   "cell_type": "code",
   "execution_count": 16,
   "metadata": {},
   "outputs": [],
   "source": [
    "# close the unity environment\n",
    "env.close()"
   ]
  },
  {
   "cell_type": "code",
   "execution_count": null,
   "metadata": {},
   "outputs": [],
   "source": []
  }
 ],
 "metadata": {
  "kernelspec": {
   "display_name": "reacher",
   "language": "python",
   "name": "reacher"
  },
  "language_info": {
   "codemirror_mode": {
    "name": "ipython",
    "version": 3
   },
   "file_extension": ".py",
   "mimetype": "text/x-python",
   "name": "python",
   "nbconvert_exporter": "python",
   "pygments_lexer": "ipython3",
   "version": "3.6.8"
  }
 },
 "nbformat": 4,
 "nbformat_minor": 2
}
